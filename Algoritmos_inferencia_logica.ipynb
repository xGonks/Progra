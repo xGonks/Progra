{
 "cells": [
  {
   "cell_type": "code",
   "execution_count": 103,
   "metadata": {},
   "outputs": [
    {
     "name": "stdout",
     "output_type": "stream",
     "text": [
      "[A, B]\n",
      "A | '<=>' | B?  True\n"
     ]
    }
   ],
   "source": [
    "%reset -f\n",
    "#-----------------------------------------------------------------\n",
    "#-----------------------------------------------------------------\n",
    "# Ejercicio 1.1\n",
    "#-----------------------------------------------------------------\n",
    "#-----------------------------------------------------------------\n",
    "\n",
    "from utils import *\n",
    "from logic import *\n",
    "\n",
    "# Simbolos\n",
    "(A, B) = symbols('A, B')\n",
    "\n",
    "# Sentencias\n",
    "Sentencia_1 = A & B\n",
    "\n",
    "# Base de Conocimiento\n",
    "prueba_KB = PropKB()\n",
    "\n",
    "prueba_KB.tell(Sentencia_1)\n",
    "\n",
    "print(prueba_KB.clauses)\n",
    "\n",
    "# Inferencia\n",
    "print(\"A | '<=>' | B? \", prueba_KB.ask_if_true(A | '<=>' | B))"
   ]
  },
  {
   "cell_type": "code",
   "execution_count": 104,
   "metadata": {},
   "outputs": [
    {
     "name": "stdout",
     "output_type": "stream",
     "text": [
      "[(A | ~B), (B | ~A)]\n",
      "A | B?  False\n"
     ]
    }
   ],
   "source": [
    "%reset -f\n",
    "#-----------------------------------------------------------------\n",
    "#-----------------------------------------------------------------\n",
    "# Ejercicio 1.2\n",
    "#-----------------------------------------------------------------\n",
    "#-----------------------------------------------------------------\n",
    "\n",
    "from utils import *\n",
    "from logic import *\n",
    "\n",
    "# Simbolos\n",
    "(A, B) = symbols('A, B')\n",
    "\n",
    "# Sentencias\n",
    "Sentencia_1 = A | '<=>' | B\n",
    "\n",
    "# Base de Conocimiento\n",
    "prueba_KB = PropKB()\n",
    "\n",
    "prueba_KB.tell(Sentencia_1)\n",
    "\n",
    "print(prueba_KB.clauses)\n",
    "\n",
    "# Inferencia\n",
    "print(\"A | B? \", prueba_KB.ask_if_true(A | B))"
   ]
  },
  {
   "cell_type": "code",
   "execution_count": 105,
   "metadata": {},
   "outputs": [
    {
     "name": "stdout",
     "output_type": "stream",
     "text": [
      "[(A | ~B), (B | ~A)]\n",
      "~A | B?  True\n"
     ]
    }
   ],
   "source": [
    "%reset -f\n",
    "#-----------------------------------------------------------------\n",
    "#-----------------------------------------------------------------\n",
    "# Ejercicio 1.3\n",
    "#-----------------------------------------------------------------\n",
    "#-----------------------------------------------------------------\n",
    "\n",
    "from utils import *\n",
    "from logic import *\n",
    "\n",
    "# Simbolos\n",
    "(A, B) = symbols('A, B')\n",
    "\n",
    "# Sentencias\n",
    "Sentencia_1 = A | '<=>' | B\n",
    "\n",
    "# Base de Conocimiento\n",
    "prueba_KB = PropKB()\n",
    "\n",
    "prueba_KB.tell(Sentencia_1)\n",
    "\n",
    "print(prueba_KB.clauses)\n",
    "\n",
    "# Inferencia\n",
    "print(\"~A | B? \", prueba_KB.ask_if_true(~A | B))"
   ]
  },
  {
   "cell_type": "code",
   "execution_count": 106,
   "metadata": {},
   "outputs": [
    {
     "name": "stdout",
     "output_type": "stream",
     "text": [
      "[(C | ~A | ~B)]\n",
      "(A | '==>' | C) | (B | '==>' | C)?  True\n"
     ]
    }
   ],
   "source": [
    "%reset -f\n",
    "#-----------------------------------------------------------------\n",
    "#-----------------------------------------------------------------\n",
    "# Ejercicio 1.4\n",
    "#-----------------------------------------------------------------\n",
    "#-----------------------------------------------------------------\n",
    "\n",
    "from utils import *\n",
    "from logic import *\n",
    "\n",
    "# Simbolos\n",
    "(A, B, C) = symbols('A, B, C')\n",
    "\n",
    "# Sentencias\n",
    "Sentencia_1 = (A & B) | '==>' | C\n",
    "\n",
    "# Base de Conocimiento\n",
    "prueba_KB = PropKB()\n",
    "\n",
    "prueba_KB.tell(Sentencia_1)\n",
    "\n",
    "print(prueba_KB.clauses)\n",
    "\n",
    "# Inferencia\n",
    "print(\"(A | '==>' | C) | (B | '==>' | C)? \", prueba_KB.ask_if_true((A | '==>' | C) | (B | '==>' | C)))"
   ]
  },
  {
   "cell_type": "code",
   "execution_count": 107,
   "metadata": {},
   "outputs": [
    {
     "name": "stdout",
     "output_type": "stream",
     "text": [
      "[(A | B), (~C | ~D | E)]\n",
      "A | B?  True\n"
     ]
    }
   ],
   "source": [
    "%reset -f\n",
    "#-----------------------------------------------------------------\n",
    "#-----------------------------------------------------------------\n",
    "# Ejercicio 1.5\n",
    "#-----------------------------------------------------------------\n",
    "#-----------------------------------------------------------------\n",
    "\n",
    "from utils import *\n",
    "from logic import *\n",
    "\n",
    "# Simbolos\n",
    "(A, B, C, D, E) = symbols('A, B, C, D, E')\n",
    "\n",
    "# Sentencias\n",
    "Sentencia_1 = A | B\n",
    "Sentencia_2 = ~C | ~D | E\n",
    "\n",
    "# Base de Conocimiento\n",
    "prueba_KB = PropKB()\n",
    "\n",
    "prueba_KB.tell(Sentencia_1)\n",
    "prueba_KB.tell(Sentencia_2)\n",
    "\n",
    "print(prueba_KB.clauses)\n",
    "\n",
    "# Inferencia\n",
    "print(\"A | B? \", prueba_KB.ask_if_true(A | B))"
   ]
  },
  {
   "cell_type": "code",
   "execution_count": 108,
   "metadata": {},
   "outputs": [
    {
     "name": "stdout",
     "output_type": "stream",
     "text": [
      "[(A | B), (~C | ~D | E)]\n",
      "(A | B) & (~D | E)?  False\n"
     ]
    }
   ],
   "source": [
    "%reset -f\n",
    "#-----------------------------------------------------------------\n",
    "#-----------------------------------------------------------------\n",
    "# Ejercicio 1.6\n",
    "#-----------------------------------------------------------------\n",
    "#-----------------------------------------------------------------\n",
    "\n",
    "from utils import *\n",
    "from logic import *\n",
    "\n",
    "# Simbolos\n",
    "(A, B, C, D, E) = symbols('A, B, C, D, E')\n",
    "\n",
    "# Sentencias\n",
    "Sentencia_1 = A | B\n",
    "Sentencia_2 = ~C | ~D | E\n",
    "\n",
    "# Base de Conocimiento\n",
    "prueba_KB = PropKB()\n",
    "\n",
    "prueba_KB.tell(Sentencia_1)\n",
    "prueba_KB.tell(Sentencia_2)\n",
    "\n",
    "print(prueba_KB.clauses)\n",
    "\n",
    "# Inferencia\n",
    "print(\"(A | B) & (~D | E)? \", prueba_KB.ask_if_true((A | B) & (~D | E)))"
   ]
  },
  {
   "cell_type": "code",
   "execution_count": 109,
   "metadata": {},
   "outputs": [
    {
     "name": "stdout",
     "output_type": "stream",
     "text": [
      "{A: True, B: False}\n"
     ]
    }
   ],
   "source": [
    "%reset -f\n",
    "#-----------------------------------------------------------------\n",
    "#-----------------------------------------------------------------\n",
    "# Ejercicio 1.7\n",
    "#-----------------------------------------------------------------\n",
    "#-----------------------------------------------------------------\n",
    "\n",
    "from utils import *\n",
    "from logic import *\n",
    "\n",
    "# Simbolos\n",
    "A, B = expr('A, B')\n",
    "\n",
    "# Satisfacibilidad\n",
    "print(dpll_satisfiable((A | B) & ~(A | '==>' | B)))"
   ]
  },
  {
   "cell_type": "code",
   "execution_count": 110,
   "metadata": {},
   "outputs": [
    {
     "name": "stdout",
     "output_type": "stream",
     "text": [
      "{B: True, A: True}\n"
     ]
    }
   ],
   "source": [
    "%reset -f\n",
    "#-----------------------------------------------------------------\n",
    "#-----------------------------------------------------------------\n",
    "# Ejercicio 1.8\n",
    "#-----------------------------------------------------------------\n",
    "#-----------------------------------------------------------------\n",
    "\n",
    "from utils import *\n",
    "from logic import *\n",
    "\n",
    "# Simbolos\n",
    "A, B = expr('A, B')\n",
    "\n",
    "# Satisfacibilidad\n",
    "print(dpll_satisfiable((A | '<=>' | B) & (~A | B)))"
   ]
  },
  {
   "cell_type": "code",
   "execution_count": 111,
   "metadata": {},
   "outputs": [
    {
     "name": "stdout",
     "output_type": "stream",
     "text": [
      "{F: False}\n"
     ]
    }
   ],
   "source": [
    "%reset -f\n",
    "#-----------------------------------------------------------------\n",
    "#-----------------------------------------------------------------\n",
    "# Ejercicio 1.9\n",
    "#-----------------------------------------------------------------\n",
    "#-----------------------------------------------------------------\n",
    "\n",
    "from utils import *\n",
    "from logic import *\n",
    "\n",
    "# Simbolos\n",
    "# S: Smoke\n",
    "# F: Fire\n",
    "S, F = expr('S, F')\n",
    "\n",
    "# Satisfacibilidad\n",
    "print(dpll_satisfiable((S | '==>' | F) | '==>' | (~S | '==>' | ~F)))"
   ]
  },
  {
   "cell_type": "code",
   "execution_count": 112,
   "metadata": {},
   "outputs": [
    {
     "name": "stdout",
     "output_type": "stream",
     "text": [
      "{F: True}\n"
     ]
    }
   ],
   "source": [
    "%reset -f\n",
    "#-----------------------------------------------------------------\n",
    "#-----------------------------------------------------------------\n",
    "# Ejercicio 1.10\n",
    "#-----------------------------------------------------------------\n",
    "#-----------------------------------------------------------------\n",
    "\n",
    "from utils import *\n",
    "from logic import *\n",
    "\n",
    "# Simbolos\n",
    "# S: Smoke\n",
    "# F: Fire\n",
    "# H: Heat\n",
    "S, F, H = expr('S, F, H')\n",
    "\n",
    "# Satisfacibilidad\n",
    "print(dpll_satisfiable(((S & H) | '==>' | F) | '<=>' | ((S | '==>' | F) | (H | '==>' | F))))"
   ]
  },
  {
   "cell_type": "code",
   "execution_count": 113,
   "metadata": {},
   "outputs": [
    {
     "name": "stdout",
     "output_type": "stream",
     "text": [
      "[(Q | ~P), (R | P), (~Q | S), (~R | S), (~Q | Q), (R | Q), (~Q | ~R), (R | ~R), (T | ~S)]\n",
      "False\n",
      "True\n",
      "True\n"
     ]
    }
   ],
   "source": [
    "%reset -f\n",
    "#-----------------------------------------------------------------\n",
    "#-----------------------------------------------------------------\n",
    "# Ejercicio 2\n",
    "#-----------------------------------------------------------------\n",
    "#-----------------------------------------------------------------\n",
    "\n",
    "from utils import *\n",
    "from logic import *\n",
    "\n",
    "# Simbolos\n",
    "# P: El unicornio es una criatura mítica.\n",
    "# Q: El unicornio es una criatura inmortal.\n",
    "# R: El unicornio es un mamífero mortal.\n",
    "# S: El unicornio tiene cuernos.\n",
    "# T: El unicornio es mágico.\n",
    "(P, Q, R, S, T) = symbols('P, Q, R, S, T')\n",
    "\n",
    "# Sentencias\n",
    "Sentencia_1 = P | '==>' | Q\n",
    "Sentencia_2 = ~P | '==>' | R\n",
    "Sentencia_3 = (Q | R) | '==>' | S\n",
    "Sentencia_4 = (Q & ~R) | (~Q & R)\n",
    "Sentencia_5 = S | '==>' | T\n",
    "\n",
    "# Base de Conocimiento\n",
    "prueba_KB = PropKB()\n",
    "\n",
    "prueba_KB.tell(Sentencia_1)\n",
    "prueba_KB.tell(Sentencia_2)\n",
    "prueba_KB.tell(Sentencia_3)\n",
    "prueba_KB.tell(Sentencia_4)\n",
    "prueba_KB.tell(Sentencia_5)\n",
    "\n",
    "print(prueba_KB.clauses)\n",
    "\n",
    "# Resolución\n",
    "print(pl_resolution(prueba_KB, P))\n",
    "print(pl_resolution(prueba_KB, T))\n",
    "print(pl_resolution(prueba_KB, S))"
   ]
  },
  {
   "cell_type": "code",
   "execution_count": 114,
   "metadata": {},
   "outputs": [
    {
     "name": "stdout",
     "output_type": "stream",
     "text": [
      "[(R | P | Q), (~T | ~S), (~U | ~S), (T | ~P), (T | ~Q)]\n",
      "S | '==>' | R?  True\n"
     ]
    }
   ],
   "source": [
    "%reset -f\n",
    "#-----------------------------------------------------------------\n",
    "#-----------------------------------------------------------------\n",
    "# Ejercicio 3\n",
    "#-----------------------------------------------------------------\n",
    "#-----------------------------------------------------------------\n",
    "\n",
    "from utils import *\n",
    "from logic import *\n",
    "\n",
    "# Simbolos\n",
    "# P: La persona consume carne.\n",
    "# Q: La persona consume pescado.\n",
    "# R: La persona es vegetariana.\n",
    "# S: La persona es vegana.\n",
    "# T: La persona consume alimentos de origen animal.\n",
    "# U: La persona consume productos lácteos.\n",
    "(P, Q, R, S, T, U) = symbols('P, Q, R, S, T, U')\n",
    "\n",
    "# Sentencias\n",
    "Sentencia_1 = (~P & ~Q) | '==>' | R\n",
    "Sentencia_2 = S | '==>' | (~T & ~U)\n",
    "Sentencia_3 = P | '==>' | T\n",
    "Sentencia_4 = Q | '==>' | T\n",
    "\n",
    "# Base de Conocimiento\n",
    "prueba_KB = PropKB()\n",
    "\n",
    "prueba_KB.tell(Sentencia_1)\n",
    "prueba_KB.tell(Sentencia_2)\n",
    "prueba_KB.tell(Sentencia_3)\n",
    "prueba_KB.tell(Sentencia_4)\n",
    "\n",
    "print(prueba_KB.clauses)\n",
    "\n",
    "# Inferencia\n",
    "print(\"S | '==>' | R? \", prueba_KB.ask_if_true(S | '==>' | R))"
   ]
  },
  {
   "cell_type": "code",
   "execution_count": 115,
   "metadata": {},
   "outputs": [
    {
     "name": "stdout",
     "output_type": "stream",
     "text": [
      "RESPUESTA \n",
      " {AT: True, BT: True, CT: True, CG: False, AG: True, AS: False, AP: False, AC: False, DP: True, DC: True, CC: False, AM: False, BS: False, BP: False, CS: False, CP: False, CM: True, DS: False, ES: False, FS: False, DT: False, EP: True, DM: False, DG: False, EC: True, BG: True, BC: False, BM: False, ET: False, EM: False, EG: False, FP: True, FT: False, FG: True, FC: False, FM: False}\n"
     ]
    }
   ],
   "source": [
    "%reset -f\n",
    "#-----------------------------------------------------------------\n",
    "#-----------------------------------------------------------------\n",
    "# Ejercicio 4\n",
    "#-----------------------------------------------------------------\n",
    "#-----------------------------------------------------------------\n",
    "\n",
    "from utils import *\n",
    "from logic import *\n",
    "\n",
    "# Simbolos\n",
    "(AC, AM, AG, AT, AS, AP) = symbols('AC, AM, AG, AT, AS, AP')\n",
    "(BC, BM, BG, BT, BS, BP) = symbols('BC, BM, BG, BT, BS, BP')\n",
    "(CC, CM, CG, CT, CS, CP) = symbols('CC, CM, CG, CT, CS, CP')\n",
    "(DC, DM, DG, DT, DS, DP) = symbols('DC, DM, DG, DT, DS, DP')\n",
    "(EC, EM, EG, ET, ES, EP) = symbols('EC, EM, EG, ET, ES, EP')\n",
    "(FC, FM, FG, FT, FS, FP) = symbols('FC, FM, FG, FT, FS, FP')\n",
    "\n",
    "# Sentencias\n",
    "Sentencia_1 = AT | '==>' | BT\n",
    "Sentencia_2 = BT | '==>' | CT\n",
    "Sentencia_3 = (AT & CT) | '==>' | (AG | CG)\n",
    "Sentencia_4 = AT & ~CG\n",
    "Sentencia_5 = (CC & DP) | '==>' | (~DG & ~DC)\n",
    "Sentencia_6 = CM | '==>' | (~DS & ~ES & ~FS)\n",
    "Sentencia_7 = ~AC | '==>' | (DP & DC)\n",
    "Sentencia_8 = EG | '==>' | (DG | '<=>' | FG)\n",
    "Sentencia_9 = (DC & EC) | (DM & EM) | (DG & EG)\n",
    "Sentencia_10 = (DT & ET) | (DS & ES) | (DP & EP)\n",
    "Sentencia_11 = FG | '==>' | (FS | FP)\n",
    "Sentencia_12 = ((CG & EM) | (CG & EC) | (CM & EC)) | '==>' | (\n",
    "    (BG & CM) | (BG & CC) | (BM & CC))\n",
    "\n",
    "# Solo una forma y un tamaño por figura\n",
    "Sentencia_13 = (AT & ~AS & ~AP) | (AS & ~AT & ~AP) | (AP & ~AT & ~AS)\n",
    "Sentencia_14 = (AC & ~AM & ~AG) | (AM & ~AC & ~AG) | (AG & ~AC & ~AM)\n",
    "Sentencia_15 = (BT & ~BS & ~BP) | (BS & ~BT & ~BP) | (BP & ~BT & ~BS)\n",
    "Sentencia_16 = (BC & ~BM & ~BG) | (BM & ~BC & ~BG) | (BG & ~BC & ~BM)\n",
    "Sentencia_17 = (CT & ~CS & ~CP) | (CS & ~CT & ~CP) | (CP & ~CT & ~CS)\n",
    "Sentencia_18 = (CC & ~CM & ~CG) | (CM & ~CC & ~CG) | (CG & ~CC & ~CM)\n",
    "Sentencia_19 = (DT & ~DS & ~DP) | (DS & ~DT & ~DP) | (DP & ~DT & ~DS)\n",
    "Sentencia_20 = (DC & ~DM & ~DG) | (DM & ~DC & ~DG) | (DG & ~DC & ~DM)\n",
    "Sentencia_21 = (ET & ~ES & ~EP) | (ES & ~ET & ~EP) | (EP & ~ET & ~ES)\n",
    "Sentencia_22 = (EC & ~EM & ~EG) | (EM & ~EC & ~EG) | (EG & ~EC & ~EM)\n",
    "Sentencia_23 = (FT & ~FS & ~FP) | (FS & ~FT & ~FP) | (FP & ~FT & ~FS)\n",
    "Sentencia_24 = (FC & ~FM & ~FG) | (FM & ~FC & ~FG) | (FG & ~FC & ~FM)\n",
    "\n",
    "# Base de Conocimiento\n",
    "prueba_KB = PropKB()\n",
    "\n",
    "prueba_KB.tell(Sentencia_1)\n",
    "prueba_KB.tell(Sentencia_2)\n",
    "prueba_KB.tell(Sentencia_3)\n",
    "prueba_KB.tell(Sentencia_4)\n",
    "prueba_KB.tell(Sentencia_5)\n",
    "prueba_KB.tell(Sentencia_6)\n",
    "prueba_KB.tell(Sentencia_7)\n",
    "prueba_KB.tell(Sentencia_8)\n",
    "prueba_KB.tell(Sentencia_9)\n",
    "prueba_KB.tell(Sentencia_10)\n",
    "prueba_KB.tell(Sentencia_11)\n",
    "prueba_KB.tell(Sentencia_12)\n",
    "prueba_KB.tell(Sentencia_13)\n",
    "prueba_KB.tell(Sentencia_14)\n",
    "prueba_KB.tell(Sentencia_15)\n",
    "prueba_KB.tell(Sentencia_16)\n",
    "prueba_KB.tell(Sentencia_17)\n",
    "prueba_KB.tell(Sentencia_18)\n",
    "prueba_KB.tell(Sentencia_19)\n",
    "prueba_KB.tell(Sentencia_20)\n",
    "prueba_KB.tell(Sentencia_21)\n",
    "prueba_KB.tell(Sentencia_22)\n",
    "prueba_KB.tell(Sentencia_23)\n",
    "prueba_KB.tell(Sentencia_24)\n",
    "\n",
    "# Generar expresión conjunta para DPLL\n",
    "kb_string = \"\"\n",
    "for elem in prueba_KB.clauses:\n",
    "    elem = to_cnf(str(elem))\n",
    "    kb_string += str(elem) + \" & \"\n",
    "kb_string = kb_string[:-3]\n",
    "\n",
    "print(\"RESPUESTA \\n\", dpll_satisfiable(expr(kb_string)))"
   ]
  }
 ],
 "metadata": {
  "kernelspec": {
   "display_name": "Python 3",
   "language": "python",
   "name": "python3"
  },
  "language_info": {
   "codemirror_mode": {
    "name": "ipython",
    "version": 3
   },
   "file_extension": ".py",
   "mimetype": "text/x-python",
   "name": "python",
   "nbconvert_exporter": "python",
   "pygments_lexer": "ipython3",
   "version": "3.13.0"
  }
 },
 "nbformat": 4,
 "nbformat_minor": 2
}
